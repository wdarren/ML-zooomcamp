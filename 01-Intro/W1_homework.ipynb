{
 "cells": [
  {
   "cell_type": "code",
   "execution_count": 2,
   "id": "e6e16770-76a9-4d4f-9444-394f3c2f20b2",
   "metadata": {},
   "outputs": [],
   "source": [
    "import pandas as pd"
   ]
  },
  {
   "cell_type": "code",
   "execution_count": 3,
   "id": "e38aa3e9-33a6-48b4-8b0a-8d82eadfe4b0",
   "metadata": {},
   "outputs": [
    {
     "data": {
      "text/plain": [
       "'2.3.1'"
      ]
     },
     "execution_count": 3,
     "metadata": {},
     "output_type": "execute_result"
    }
   ],
   "source": [
    "pd.__version__"
   ]
  },
  {
   "cell_type": "code",
   "execution_count": 4,
   "id": "bff8c7f1-3819-4303-9197-de8223a4993c",
   "metadata": {},
   "outputs": [],
   "source": [
    "df=pd.read_csv(\"https://raw.githubusercontent.com/alexeygrigorev/datasets/master/car_fuel_efficiency.csv\")"
   ]
  },
  {
   "cell_type": "code",
   "execution_count": 5,
   "id": "7709eec7-a9e6-4f44-b6bc-57afdab53a52",
   "metadata": {},
   "outputs": [
    {
     "data": {
      "text/plain": [
       "engine_displacement    9704\n",
       "num_cylinders          9222\n",
       "horsepower             8996\n",
       "vehicle_weight         9704\n",
       "acceleration           8774\n",
       "model_year             9704\n",
       "origin                 9704\n",
       "fuel_type              9704\n",
       "drivetrain             9704\n",
       "num_doors              9202\n",
       "fuel_efficiency_mpg    9704\n",
       "dtype: int64"
      ]
     },
     "execution_count": 5,
     "metadata": {},
     "output_type": "execute_result"
    }
   ],
   "source": [
    "df.count()"
   ]
  },
  {
   "cell_type": "code",
   "execution_count": 6,
   "id": "2b74ecd4-9dc5-43b2-b0b7-0e71d446ec50",
   "metadata": {},
   "outputs": [
    {
     "data": {
      "text/plain": [
       "engine_displacement      36\n",
       "num_cylinders            14\n",
       "horsepower              192\n",
       "vehicle_weight         9704\n",
       "acceleration            162\n",
       "model_year               24\n",
       "origin                    3\n",
       "fuel_type                 2\n",
       "drivetrain                2\n",
       "num_doors                 9\n",
       "fuel_efficiency_mpg    9704\n",
       "dtype: int64"
      ]
     },
     "execution_count": 6,
     "metadata": {},
     "output_type": "execute_result"
    }
   ],
   "source": [
    "df.nunique()"
   ]
  },
  {
   "cell_type": "code",
   "execution_count": 14,
   "id": "156d158e-198d-48c6-8220-bf9f4c3af3b5",
   "metadata": {},
   "outputs": [
    {
     "data": {
      "text/plain": [
       "engine_displacement      0\n",
       "num_cylinders          482\n",
       "horsepower             708\n",
       "vehicle_weight           0\n",
       "acceleration           930\n",
       "model_year               0\n",
       "origin                   0\n",
       "fuel_type                0\n",
       "drivetrain               0\n",
       "num_doors              502\n",
       "fuel_efficiency_mpg      0\n",
       "dtype: int64"
      ]
     },
     "execution_count": 14,
     "metadata": {},
     "output_type": "execute_result"
    }
   ],
   "source": [
    "df.isnull().sum()"
   ]
  },
  {
   "cell_type": "code",
   "execution_count": 16,
   "id": "ba0f1abf-ca6e-4718-96f0-bb1704cb9398",
   "metadata": {},
   "outputs": [
    {
     "data": {
      "text/plain": [
       "np.float64(23.759122836520497)"
      ]
     },
     "execution_count": 16,
     "metadata": {},
     "output_type": "execute_result"
    }
   ],
   "source": [
    "df[df['origin'] == 'Asia']['fuel_efficiency_mpg'].max()"
   ]
  },
  {
   "cell_type": "code",
   "execution_count": 17,
   "id": "f3c3934b-241b-4852-8c1f-ee9779f86dc4",
   "metadata": {},
   "outputs": [
    {
     "data": {
      "text/plain": [
       "np.float64(149.0)"
      ]
     },
     "execution_count": 17,
     "metadata": {},
     "output_type": "execute_result"
    }
   ],
   "source": [
    "df[\"horsepower\"].median()"
   ]
  },
  {
   "cell_type": "code",
   "execution_count": 20,
   "id": "4c0695c9-1e30-4cd3-b219-975225b11ce2",
   "metadata": {},
   "outputs": [],
   "source": [
    "mode_n = df['horsepower'].mode()[0]"
   ]
  },
  {
   "cell_type": "code",
   "execution_count": 21,
   "id": "4067d110-f8fd-426c-bfe7-7bb6ecc64526",
   "metadata": {},
   "outputs": [],
   "source": [
    "df['horsepower'] = df['horsepower'].fillna(mode_n)"
   ]
  },
  {
   "cell_type": "code",
   "execution_count": 22,
   "id": "2249c153-ffb5-45e5-a1ba-a2b25157ef74",
   "metadata": {},
   "outputs": [
    {
     "data": {
      "text/plain": [
       "np.float64(152.0)"
      ]
     },
     "execution_count": 22,
     "metadata": {},
     "output_type": "execute_result"
    }
   ],
   "source": [
    "df[\"horsepower\"].median()"
   ]
  },
  {
   "cell_type": "code",
   "execution_count": 23,
   "id": "2fa4e22c-44b6-44a6-a847-119cc61e3e4d",
   "metadata": {},
   "outputs": [],
   "source": [
    "import numpy as np\n",
    "X_df = df[df['origin'] == 'Asia'][['vehicle_weight', 'model_year']]\n",
    "X_7 = X_df.head(7)\n",
    "X = X_7.values\n"
   ]
  },
  {
   "cell_type": "code",
   "execution_count": 24,
   "id": "378cae9c-85c6-4e35-ac7f-bebc78b1eccc",
   "metadata": {},
   "outputs": [
    {
     "data": {
      "text/plain": [
       "np.float64(0.5187709081074016)"
      ]
     },
     "execution_count": 24,
     "metadata": {},
     "output_type": "execute_result"
    }
   ],
   "source": [
    "XTX = X.T @ X\n",
    "XTX_inv = np.linalg.inv(XTX)\n",
    "y = np.array([1100, 1300, 800, 900, 1000, 1100, 1200])\n",
    "w = XTX_inv @ X.T @ y\n",
    "w.sum()"
   ]
  },
  {
   "cell_type": "code",
   "execution_count": null,
   "id": "341fc822-24ea-419a-92cf-2185bd5d4e63",
   "metadata": {},
   "outputs": [],
   "source": []
  }
 ],
 "metadata": {
  "kernelspec": {
   "display_name": "Python 3 (ipykernel)",
   "language": "python",
   "name": "python3"
  },
  "language_info": {
   "codemirror_mode": {
    "name": "ipython",
    "version": 3
   },
   "file_extension": ".py",
   "mimetype": "text/x-python",
   "name": "python",
   "nbconvert_exporter": "python",
   "pygments_lexer": "ipython3",
   "version": "3.12.1"
  }
 },
 "nbformat": 4,
 "nbformat_minor": 5
}
